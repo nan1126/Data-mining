{
 "cells": [
  {
   "cell_type": "markdown",
   "metadata": {},
   "source": [
    "本篇中选取的数据集为Wine Reviews。由于该数据集中包含两个csv文件，首先将两个文件合并。"
   ]
  },
  {
   "cell_type": "code",
   "execution_count": null,
   "metadata": {},
   "outputs": [],
   "source": [
    "import pandas as pd\n",
    "import os\n",
    "Folder_Path = r'D:\\python\\wine'          \n",
    "SaveFile_Path =  r'D:\\python'       \n",
    "SaveFile_Name = r'wine.csv'              \n",
    "os.chdir(Folder_Path)\n",
    "file_list = os.listdir()\n",
    "df1 = pd.read_csv(Folder_Path +'\\\\'+ file_list[0])   \n",
    "df2 = pd.read_csv(Folder_Path +'\\\\'+ file_list[1]) \n",
    "df3 = pd.concat([df1,df2],ignore_index = True,verify_integrity = True)\n",
    "df3.to_csv(SaveFile_Path+'\\\\'+ SaveFile_Name,encoding=\"utf_8_sig\")"
   ]
  },
  {
   "cell_type": "markdown",
   "metadata": {},
   "source": [
    "读取合并后的文件内容"
   ]
  },
  {
   "cell_type": "code",
   "execution_count": 2,
   "metadata": {},
   "outputs": [
    {
     "name": "stdout",
     "output_type": "stream",
     "text": [
      "        Unnamed: 0  Unnamed: 0.1   country  \\\n",
      "0                0             0     Italy   \n",
      "1                1             1  Portugal   \n",
      "2                2             2        US   \n",
      "3                3             3        US   \n",
      "4                4             4        US   \n",
      "...            ...           ...       ...   \n",
      "280896      280896        150925     Italy   \n",
      "280897      280897        150926    France   \n",
      "280898      280898        150927     Italy   \n",
      "280899      280899        150928    France   \n",
      "280900      280900        150929     Italy   \n",
      "\n",
      "                                              description  \\\n",
      "0       Aromas include tropical fruit, broom, brimston...   \n",
      "1       This is ripe and fruity, a wine that is smooth...   \n",
      "2       Tart and snappy, the flavors of lime flesh and...   \n",
      "3       Pineapple rind, lemon pith and orange blossom ...   \n",
      "4       Much like the regular bottling from 2012, this...   \n",
      "...                                                   ...   \n",
      "280896  Many people feel Fiano represents southern Ita...   \n",
      "280897  Offers an intriguing nose with ginger, lime an...   \n",
      "280898  This classic example comes from a cru vineyard...   \n",
      "280899  A perfect salmon shade, with scents of peaches...   \n",
      "280900  More Pinot Grigios should taste like this. A r...   \n",
      "\n",
      "                               designation  points  price            province  \\\n",
      "0                             Vulkà Bianco      87    NaN   Sicily & Sardinia   \n",
      "1                                 Avidagos      87   15.0               Douro   \n",
      "2                                      NaN      87   14.0              Oregon   \n",
      "3                     Reserve Late Harvest      87   13.0            Michigan   \n",
      "4       Vintner's Reserve Wild Child Block      87   65.0              Oregon   \n",
      "...                                    ...     ...    ...                 ...   \n",
      "280896                                 NaN      91   20.0      Southern Italy   \n",
      "280897                      Cuvée Prestige      91   27.0           Champagne   \n",
      "280898                       Terre di Dora      91   20.0      Southern Italy   \n",
      "280899                     Grand Brut Rosé      90   52.0           Champagne   \n",
      "280900                                 NaN      90   15.0  Northeastern Italy   \n",
      "\n",
      "                   region_1           region_2         taster_name  \\\n",
      "0                      Etna                NaN       Kerin O’Keefe   \n",
      "1                       NaN                NaN          Roger Voss   \n",
      "2         Willamette Valley  Willamette Valley        Paul Gregutt   \n",
      "3       Lake Michigan Shore                NaN  Alexander Peartree   \n",
      "4         Willamette Valley  Willamette Valley        Paul Gregutt   \n",
      "...                     ...                ...                 ...   \n",
      "280896    Fiano di Avellino                NaN                 NaN   \n",
      "280897            Champagne                NaN                 NaN   \n",
      "280898    Fiano di Avellino                NaN                 NaN   \n",
      "280899            Champagne                NaN                 NaN   \n",
      "280900           Alto Adige                NaN                 NaN   \n",
      "\n",
      "       taster_twitter_handle  \\\n",
      "0               @kerinokeefe   \n",
      "1                 @vossroger   \n",
      "2                @paulgwine    \n",
      "3                        NaN   \n",
      "4                @paulgwine    \n",
      "...                      ...   \n",
      "280896                   NaN   \n",
      "280897                   NaN   \n",
      "280898                   NaN   \n",
      "280899                   NaN   \n",
      "280900                   NaN   \n",
      "\n",
      "                                                    title          variety  \\\n",
      "0                       Nicosia 2013 Vulkà Bianco  (Etna)      White Blend   \n",
      "1           Quinta dos Avidagos 2011 Avidagos Red (Douro)   Portuguese Red   \n",
      "2           Rainstorm 2013 Pinot Gris (Willamette Valley)       Pinot Gris   \n",
      "3       St. Julian 2013 Reserve Late Harvest Riesling ...         Riesling   \n",
      "4       Sweet Cheeks 2012 Vintner's Reserve Wild Child...       Pinot Noir   \n",
      "...                                                   ...              ...   \n",
      "280896                                                NaN      White Blend   \n",
      "280897                                                NaN  Champagne Blend   \n",
      "280898                                                NaN      White Blend   \n",
      "280899                                                NaN  Champagne Blend   \n",
      "280900                                                NaN     Pinot Grigio   \n",
      "\n",
      "                       winery  \n",
      "0                     Nicosia  \n",
      "1         Quinta dos Avidagos  \n",
      "2                   Rainstorm  \n",
      "3                  St. Julian  \n",
      "4                Sweet Cheeks  \n",
      "...                       ...  \n",
      "280896  Feudi di San Gregorio  \n",
      "280897              H.Germain  \n",
      "280898              Terredora  \n",
      "280899                 Gosset  \n",
      "280900          Alois Lageder  \n",
      "\n",
      "[280901 rows x 15 columns]\n"
     ]
    },
    {
     "name": "stderr",
     "output_type": "stream",
     "text": [
      "d:\\python\\lib\\site-packages\\IPython\\core\\interactiveshell.py:3063: DtypeWarning: Columns (10,11,12) have mixed types. Specify dtype option on import or set low_memory=False.\n",
      "  interactivity=interactivity, compiler=compiler, result=result)\n"
     ]
    }
   ],
   "source": [
    "import pandas as pd\n",
    "df1 = pd.read_csv(\"D:/python/wine.csv\")\n",
    "print(df1)"
   ]
  },
  {
   "cell_type": "markdown",
   "metadata": {},
   "source": [
    "该组数据中只有point和price为数值属性，后续进行计算缺失值、五数概括和可视化处理。其余属性中，country、 province、 region_1、variety 和winery重复率较高可以计算频数，剩下的属性频率太低不再进行分析，计数时只选取前10个频率较高的数据。\n",
    "1、country:"
   ]
  },
  {
   "cell_type": "code",
   "execution_count": 3,
   "metadata": {},
   "outputs": [
    {
     "name": "stdout",
     "output_type": "stream",
     "text": [
      "[('US', 116901), ('France', 43191), ('Italy', 43018), ('Spain', 14913), ('Portugal', 11013), ('Chile', 10288), ('Argentina', 9431), ('Australia', 7286), ('Austria', 6402), ('New Zealand', 4739)]\n"
     ]
    }
   ],
   "source": [
    "import matplotlib.pyplot as plt\n",
    "import csv\n",
    "from collections import Counter\n",
    "filename = \"D:/python/wine.csv\"\n",
    "list1 = []\n",
    "with open(filename, 'r',encoding='UTF-8') as file:\n",
    "    next(file)\n",
    "    reader = csv.reader(file)\n",
    "    country = [row[2] for row in reader]\n",
    "def counter1(arr):\n",
    "    return Counter(arr).most_common(10)\n",
    "print(counter1(country))"
   ]
  },
  {
   "cell_type": "markdown",
   "metadata": {},
   "source": [
    "2、province"
   ]
  },
  {
   "cell_type": "code",
   "execution_count": 4,
   "metadata": {},
   "outputs": [
    {
     "name": "stdout",
     "output_type": "stream",
     "text": [
      "[('California', 80755), ('Washington', 18389), ('Tuscany', 13178), ('Bordeaux', 12052), ('Oregon', 9962), ('Northern Spain', 8743), ('Burgundy', 8288), ('Mendoza Province', 8006), ('Piedmont', 7822), ('Veneto', 6678)]\n"
     ]
    }
   ],
   "source": [
    "with open(filename, 'r',encoding='UTF-8') as file:\n",
    "    next(file)\n",
    "    reader = csv.reader(file)\n",
    "    province = [row[7] for row in reader]\n",
    "print(counter1(province))"
   ]
  },
  {
   "cell_type": "markdown",
   "metadata": {},
   "source": [
    "3、region"
   ]
  },
  {
   "cell_type": "code",
   "execution_count": 5,
   "metadata": {},
   "outputs": [
    {
     "name": "stdout",
     "output_type": "stream",
     "text": [
      "[('', 46307), ('Napa Valley', 10689), ('Columbia Valley (WA)', 9099), ('Russian River Valley', 6662), ('California', 6091), ('Mendoza', 5887), ('Paso Robles', 5403), ('Willamette Valley', 4397), ('Alsace', 3737), ('Rioja', 3362)]\n"
     ]
    }
   ],
   "source": [
    "with open(filename, 'r',encoding='UTF-8') as file:\n",
    "    next(file)\n",
    "    reader = csv.reader(file)\n",
    "    region = [row[8] for row in reader]\n",
    "print(counter1(region))"
   ]
  },
  {
   "cell_type": "markdown",
   "metadata": {},
   "source": [
    "4、variety"
   ]
  },
  {
   "cell_type": "code",
   "execution_count": 6,
   "metadata": {},
   "outputs": [
    {
     "name": "stdout",
     "output_type": "stream",
     "text": [
      "[('Pinot Noir', 27563), ('Chardonnay', 26235), ('Cabernet Sauvignon', 22272), ('Red Blend', 19008), ('Bordeaux-style Red Blend', 14262), ('Sauvignon Blanc', 11287), ('Riesling', 10713), ('Syrah', 9967), ('Merlot', 8172), ('Zinfandel', 6513)]\n"
     ]
    }
   ],
   "source": [
    "with open(filename, 'r',encoding='UTF-8') as file:\n",
    "    next(file)\n",
    "    reader = csv.reader(file)\n",
    "    variety = [row[13] for row in reader]\n",
    "print(counter1(variety))"
   ]
  },
  {
   "cell_type": "markdown",
   "metadata": {},
   "source": [
    "5、winery"
   ]
  },
  {
   "cell_type": "code",
   "execution_count": 7,
   "metadata": {},
   "outputs": [
    {
     "name": "stdout",
     "output_type": "stream",
     "text": [
      "[('Williams Selyem', 585), ('Testarossa', 492), ('DFJ Vinhos', 473), ('Chateau Ste. Michelle', 419), ('Wines & Winemakers', 391), ('Georges Duboeuf', 384), ('Concha y Toro', 380), ('Columbia Crest', 376), ('Louis Latour', 353), ('Kendall-Jackson', 346)]\n"
     ]
    }
   ],
   "source": [
    "with open(filename, 'r',encoding='UTF-8') as file:\n",
    "    next(file)\n",
    "    reader = csv.reader(file)\n",
    "    winery = [row[14] for row in reader]\n",
    "print(counter1(winery))"
   ]
  },
  {
   "cell_type": "markdown",
   "metadata": {},
   "source": [
    "计算price的缺失值个数以及五数概括"
   ]
  },
  {
   "cell_type": "code",
   "execution_count": 8,
   "metadata": {},
   "outputs": [
    {
     "name": "stdout",
     "output_type": "stream",
     "text": [
      "price的缺失值个数为: 22691\n",
      "price的五数概括是： 4.0 16.0 25.0 40.0 3300.0\n"
     ]
    }
   ],
   "source": [
    "import numpy as np\n",
    "def fiveNumber(nums):\n",
    "    \"\"\"五数概括 Minimum（最小值）、Q1、Median（中位数、）、Q3、Maximum（最大值）\"\"\"\n",
    "    Minimum=min(nums)\n",
    "    Maximum=max(nums)\n",
    "    Q1=np.percentile(nums,25)\n",
    "    Median=np.median(nums)\n",
    "    Q3=np.percentile(nums,75)\n",
    "    print(Minimum,Q1,Median,Q3,Maximum)\n",
    "with open(filename, 'r',encoding='UTF-8') as file:\n",
    "    next(file)\n",
    "    reader = csv.reader(file)\n",
    "    column = [row[6] for row in reader]\n",
    "len1 = len(column)\n",
    "num = list(filter(None, column))\n",
    "len2 = len(num)\n",
    "num = list(map(float, num))\n",
    "sum = len1 - len2\n",
    "print(\"price的缺失值个数为:\",sum)\n",
    "print(\"price的五数概括是：\",end=' ')\n",
    "fiveNumber(num)"
   ]
  },
  {
   "cell_type": "markdown",
   "metadata": {},
   "source": [
    "计算point的缺失值个数以及五数概括"
   ]
  },
  {
   "cell_type": "code",
   "execution_count": 9,
   "metadata": {},
   "outputs": [
    {
     "name": "stdout",
     "output_type": "stream",
     "text": [
      "point的缺失值个数为: 0\n",
      "point的五数概括是： 80.0 86.0 88.0 90.0 100.0\n"
     ]
    }
   ],
   "source": [
    "with open(filename, 'r',encoding='UTF-8') as file:\n",
    "    next(file)\n",
    "    reader = csv.reader(file)\n",
    "    point = [row[5] for row in reader]\n",
    "point_len1 = len(point)\n",
    "point_num = list(filter(None, point))\n",
    "point_len2 = len(point_num)\n",
    "point_num = list(map(float, point_num))\n",
    "point_sum = point_len1 - point_len2\n",
    "print(\"point的缺失值个数为:\",point_sum)\n",
    "print(\"point的五数概括是：\",end=' ')\n",
    "fiveNumber(point_num)"
   ]
  },
  {
   "cell_type": "markdown",
   "metadata": {},
   "source": [
    "对price进行可视化处理，主要包括盒图和直方图，盒图中由于最大值为离群点，且距离最大观测值较远，则将最大值限定为最大观测值，没有画出离群点。"
   ]
  },
  {
   "cell_type": "code",
   "execution_count": 10,
   "metadata": {
    "scrolled": true
   },
   "outputs": [
    {
     "data": {
      "text/plain": [
       "{'whiskers': [<matplotlib.lines.Line2D at 0x1ec203684c8>,\n",
       "  <matplotlib.lines.Line2D at 0x1ec2035ce88>],\n",
       " 'caps': [<matplotlib.lines.Line2D at 0x1ec20368f88>,\n",
       "  <matplotlib.lines.Line2D at 0x1ec20368c88>],\n",
       " 'boxes': [<matplotlib.lines.Line2D at 0x1ec2035cc08>],\n",
       " 'medians': [<matplotlib.lines.Line2D at 0x1ec20373d88>],\n",
       " 'fliers': [],\n",
       " 'means': []}"
      ]
     },
     "execution_count": 10,
     "metadata": {},
     "output_type": "execute_result"
    },
    {
     "data": {
      "image/png": "[encoded data removed]",
      "text/plain": [
       "<Figure size 432x288 with 1 Axes>"
      ]
     },
     "metadata": {
      "needs_background": "light"
     },
     "output_type": "display_data"
    }
   ],
   "source": [
    "import matplotlib.pyplot as plt\n",
    "plt.boxplot(num,showfliers = False)   "
   ]
  },
  {
   "cell_type": "markdown",
   "metadata": {},
   "source": [
    "对属性point进行可视化处理。"
   ]
  },
  {
   "cell_type": "code",
   "execution_count": 11,
   "metadata": {},
   "outputs": [
    {
     "data": {
      "image/png": "[encoded data removed]",
      "text/plain": [
       "<Figure size 432x288 with 1 Axes>"
      ]
     },
     "metadata": {
      "needs_background": "light"
     },
     "output_type": "display_data"
    }
   ],
   "source": [
    "import pylab as pl\n",
    "def draw_hist(lenths,string1):  \n",
    "    data = lenths \n",
    "    bins = np.linspace(min(data),max(data),20)\n",
    "    pl.hist(data,bins)\n",
    "    pl.xlabel(\"Number of %s\"%(string1))\n",
    "    pl.ylabel('Number of occurences')\n",
    "    pl.title(\"Frequency distribution of number of %s\"%(string1))\n",
    "    pl.show()\n",
    "draw_hist(num,string1 = 'price')\n"
   ]
  },
  {
   "cell_type": "code",
   "execution_count": 12,
   "metadata": {
    "scrolled": true
   },
   "outputs": [
    {
     "data": {
      "text/plain": [
       "{'whiskers': [<matplotlib.lines.Line2D at 0x1ec204b9648>,\n",
       "  <matplotlib.lines.Line2D at 0x1ec204b9e08>],\n",
       " 'caps': [<matplotlib.lines.Line2D at 0x1ec204b9f08>,\n",
       "  <matplotlib.lines.Line2D at 0x1ec204bdd88>],\n",
       " 'boxes': [<matplotlib.lines.Line2D at 0x1ec204b3d08>],\n",
       " 'medians': [<matplotlib.lines.Line2D at 0x1ec204bde88>],\n",
       " 'fliers': [<matplotlib.lines.Line2D at 0x1ec204c1d08>],\n",
       " 'means': []}"
      ]
     },
     "execution_count": 12,
     "metadata": {},
     "output_type": "execute_result"
    },
    {
     "data": {
      "image/png": "[encoded data removed]",
      "text/plain": [
       "<Figure size 432x288 with 1 Axes>"
      ]
     },
     "metadata": {
      "needs_background": "light"
     },
     "output_type": "display_data"
    }
   ],
   "source": [
    "plt.boxplot(point_num)"
   ]
  },
  {
   "cell_type": "code",
   "execution_count": 13,
   "metadata": {},
   "outputs": [
    {
     "data": {
      "image/png": "[encoded data removed]",
      "text/plain": [
       "<Figure size 432x288 with 1 Axes>"
      ]
     },
     "metadata": {
      "needs_background": "light"
     },
     "output_type": "display_data"
    }
   ],
   "source": [
    "draw_hist(point_num,'point')"
   ]
  },
  {
   "cell_type": "markdown",
   "metadata": {},
   "source": [
    "对缺失值进行填补的部分，由于point无缺失值，不再对其进行处理。\n",
    "1、直接剔除缺失值，在上述进行可视化处理的过程中就是直接剔除了缺失值，这一步不再重复操作。\n",
    "2、用最高频率值来填补缺失值，选取了众数替代了空值，以下是处理后的盒图以及直方图。"
   ]
  },
  {
   "cell_type": "code",
   "execution_count": 14,
   "metadata": {},
   "outputs": [
    {
     "data": {
      "text/plain": [
       "{'whiskers': [<matplotlib.lines.Line2D at 0x1ec20994388>,\n",
       "  <matplotlib.lines.Line2D at 0x1ec20994748>],\n",
       " 'caps': [<matplotlib.lines.Line2D at 0x1ec20bca048>,\n",
       "  <matplotlib.lines.Line2D at 0x1ec20bcac48>],\n",
       " 'boxes': [<matplotlib.lines.Line2D at 0x1ec20530e08>],\n",
       " 'medians': [<matplotlib.lines.Line2D at 0x1ec20bef208>],\n",
       " 'fliers': [],\n",
       " 'means': []}"
      ]
     },
     "execution_count": 14,
     "metadata": {},
     "output_type": "execute_result"
    },
    {
     "data": {
      "image/png": "[encoded data removed]",
      "text/plain": [
       "<Figure size 432x288 with 1 Axes>"
      ]
     },
     "metadata": {
      "needs_background": "light"
     },
     "output_type": "display_data"
    }
   ],
   "source": [
    "rows = Counter(num).most_common(1)\n",
    "mode = [x[0] for x in rows]\n",
    "#print(mode)\n",
    "miss_point = list(point)\n",
    "mode_list = list(column)\n",
    "for i, x in enumerate(mode_list):\n",
    "    if x == '':\n",
    "        mode_list[i] = mode[0]\n",
    "        miss_point[i] = ''\n",
    "mode_list = list(map(float, mode_list))\n",
    "plt.boxplot(mode_list,showfliers = False)   "
   ]
  },
  {
   "cell_type": "code",
   "execution_count": 15,
   "metadata": {},
   "outputs": [
    {
     "data": {
      "image/png": "[encoded data removed]",
      "text/plain": [
       "<Figure size 432x288 with 1 Axes>"
      ]
     },
     "metadata": {
      "needs_background": "light"
     },
     "output_type": "display_data"
    }
   ],
   "source": [
    "draw_hist(mode_list,'price')"
   ]
  },
  {
   "cell_type": "markdown",
   "metadata": {},
   "source": [
    "3、通过属性的相关关系来填补缺失值，通过计算可以得到point和price的相关系数为0.437456，所以可以计算point以及price两个属性间的回归函数，从而填充缺失值，以下是处理过程以及填补后的可视化处理。"
   ]
  },
  {
   "cell_type": "code",
   "execution_count": 16,
   "metadata": {},
   "outputs": [
    {
     "name": "stdout",
     "output_type": "stream",
     "text": [
      "Most Positive Correlations:\n",
      " Unnamed: 0   -0.020996\n",
      "points        0.437456\n",
      "price         1.000000\n",
      "Name: price, dtype: float64\n"
     ]
    }
   ],
   "source": [
    "correlations = df3.corr()['price'].sort_values()\n",
    "print('Most Positive Correlations:\\n', correlations.tail(15))\n",
    "miss_point = list(filter(None, miss_point))\n",
    "miss_point = list(map(float, miss_point))"
   ]
  },
  {
   "cell_type": "code",
   "execution_count": 17,
   "metadata": {},
   "outputs": [
    {
     "name": "stdout",
     "output_type": "stream",
     "text": [
      "自变量---源数据: (258210, 1) ；  训练集: (206568, 1) ；  测试集: (51642, 1)\n",
      "因变量---源数据: (258210, 1) ；  训练集: (206568, 1) ；  测试集: (51642, 1)\n"
     ]
    },
    {
     "data": {
      "image/png": "[encoded data removed]",
      "text/plain": [
       "<Figure size 432x288 with 1 Axes>"
      ]
     },
     "metadata": {
      "needs_background": "light"
     },
     "output_type": "display_data"
    }
   ],
   "source": [
    "from pandas import DataFrame,Series\n",
    "from sklearn.model_selection import train_test_split\n",
    "from sklearn.linear_model import LinearRegression\n",
    "miss_point = DataFrame(miss_point)\n",
    "num = DataFrame(num)\n",
    "X_train,X_test,Y_train,Y_test = train_test_split(miss_point,num,train_size=0.8)\n",
    "print(\"自变量---源数据:\",miss_point.shape, \"；  训练集:\",X_train.shape, \"；  测试集:\",X_test.shape)\n",
    "print(\"因变量---源数据:\",num.shape, \"；  训练集:\",Y_train.shape, \"；  测试集:\",Y_test.shape)\n",
    "plt.scatter(X_train, Y_train, color=\"darkgreen\", label=\"train data\")\n",
    "plt.scatter(X_test, Y_test, color=\"red\", label=\"test data\")\n",
    "plt.legend(loc=2)\n",
    "plt.xlabel(\"point\")\n",
    "plt.ylabel(\"price\")\n",
    "plt.show()"
   ]
  },
  {
   "cell_type": "code",
   "execution_count": 18,
   "metadata": {},
   "outputs": [
    {
     "data": {
      "image/png": "[encoded data removed]",
      "text/plain": [
       "<Figure size 432x288 with 1 Axes>"
      ]
     },
     "metadata": {
      "needs_background": "light"
     },
     "output_type": "display_data"
    },
    {
     "name": "stdout",
     "output_type": "stream",
     "text": [
      "拟合参数:截距 [-438.97589662] ,回归系数： [[5.37191396]]\n",
      "最佳拟合线: Y =  [-438.98] + [5.37] * X\n"
     ]
    }
   ],
   "source": [
    "model = LinearRegression()\n",
    "model.fit(X_train,Y_train)\n",
    "a  = model.intercept_\n",
    "b = model.coef_\n",
    "y_train_pred = model.predict(X_train)\n",
    "plt.plot(X_train, y_train_pred, color='blue', linewidth=2, label=\"best line\")\n",
    "plt.scatter(X_train, Y_train, color='darkgreen', label=\"train data\")\n",
    "plt.scatter(X_test, Y_test, color='red', label=\"test data\")\n",
    "plt.legend(loc=2)\n",
    "plt.ylim(0,100)\n",
    "plt.xlabel(\"point\")\n",
    "plt.ylabel(\"price\")\n",
    "plt.show()\n",
    "print(\"拟合参数:截距\",a,\",回归系数：\",b)\n",
    "print(\"最佳拟合线: Y = \",np.round(a,2),\"+\",np.round(b[0],2),\"* X\")\n"
   ]
  },
  {
   "cell_type": "code",
   "execution_count": 19,
   "metadata": {},
   "outputs": [
    {
     "data": {
      "text/plain": [
       "{'whiskers': [<matplotlib.lines.Line2D at 0x1ec0b991d88>,\n",
       "  <matplotlib.lines.Line2D at 0x1ec0b991fc8>],\n",
       " 'caps': [<matplotlib.lines.Line2D at 0x1ec03ec4c48>,\n",
       "  <matplotlib.lines.Line2D at 0x1ec0a932308>],\n",
       " 'boxes': [<matplotlib.lines.Line2D at 0x1ec0b9afe88>],\n",
       " 'medians': [<matplotlib.lines.Line2D at 0x1ec0a9326c8>],\n",
       " 'fliers': [],\n",
       " 'means': []}"
      ]
     },
     "execution_count": 19,
     "metadata": {},
     "output_type": "execute_result"
    },
    {
     "data": {
      "image/png": "[encoded data removed]",
      "text/plain": [
       "<Figure size 432x288 with 1 Axes>"
      ]
     },
     "metadata": {
      "needs_background": "light"
     },
     "output_type": "display_data"
    }
   ],
   "source": [
    "r_list = list(column)\n",
    "for i, x in enumerate(r_list):\n",
    "    if x == '':\n",
    "        r_list[i] = int((5.33)*point_num[i] - 435.23)\n",
    "r_list = list(map(float, r_list))\n",
    "plt.boxplot(r_list,showfliers = False)              "
   ]
  },
  {
   "cell_type": "code",
   "execution_count": 20,
   "metadata": {},
   "outputs": [
    {
     "data": {
      "image/png": "[encoded data removed]",
      "text/plain": [
       "<Figure size 432x288 with 1 Axes>"
      ]
     },
     "metadata": {
      "needs_background": "light"
     },
     "output_type": "display_data"
    }
   ],
   "source": [
    "draw_hist(r_list,'price')"
   ]
  },
  {
   "cell_type": "markdown",
   "metadata": {},
   "source": [
    "4、通过数据对象之间point的相似性进行缺失值处理，对point进行排序，取值相近的point的数据对象的price值进行填充，以下是处理过程以及填补后的可视化处理。"
   ]
  },
  {
   "cell_type": "code",
   "execution_count": 21,
   "metadata": {},
   "outputs": [
    {
     "data": {
      "text/plain": [
       "{'whiskers': [<matplotlib.lines.Line2D at 0x1ec276f17c8>,\n",
       "  <matplotlib.lines.Line2D at 0x1ec276f1f88>],\n",
       " 'caps': [<matplotlib.lines.Line2D at 0x1ec276f1f08>,\n",
       "  <matplotlib.lines.Line2D at 0x1ec276f5f08>],\n",
       " 'boxes': [<matplotlib.lines.Line2D at 0x1ec276eed88>],\n",
       " 'medians': [<matplotlib.lines.Line2D at 0x1ec276f5e88>],\n",
       " 'fliers': [],\n",
       " 'means': []}"
      ]
     },
     "execution_count": 21,
     "metadata": {},
     "output_type": "execute_result"
    },
    {
     "data": {
      "image/png": "[encoded data removed]",
      "text/plain": [
       "<Figure size 432x288 with 1 Axes>"
      ]
     },
     "metadata": {
      "needs_background": "light"
     },
     "output_type": "display_data"
    }
   ],
   "source": [
    "new = list(zip(point,column))\n",
    "new = sorted(new,key=(lambda x:x[0]))\n",
    "s_list = [i[1] for i in new]\n",
    "for i, x in enumerate(s_list):\n",
    "    if x == '':\n",
    "        s_list[i] = s_list[i-1]\n",
    "s_list = list(map(float, s_list))\n",
    "plt.boxplot(s_list,showfliers = False)"
   ]
  },
  {
   "cell_type": "code",
   "execution_count": 22,
   "metadata": {},
   "outputs": [
    {
     "data": {
      "image/png": "[encoded data removed]",
      "text/plain": [
       "<Figure size 432x288 with 1 Axes>"
      ]
     },
     "metadata": {
      "needs_background": "light"
     },
     "output_type": "display_data"
    }
   ],
   "source": [
    "draw_hist(s_list,'price')"
   ]
  }
 ],
 "metadata": {
  "kernelspec": {
   "display_name": "Python 3",
   "language": "python",
   "name": "python3"
  },
  "language_info": {
   "codemirror_mode": {
    "name": "ipython",
    "version": 3
   },
   "file_extension": ".py",
   "mimetype": "text/x-python",
   "name": "python",
   "nbconvert_exporter": "python",
   "pygments_lexer": "ipython3",
   "version": "3.7.4"
  }
 },
 "nbformat": 4,
 "nbformat_minor": 4
}
