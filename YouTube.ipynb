{
 "cells": [
  {
   "cell_type": "markdown",
   "metadata": {},
   "source": [
    "本篇选取的数据集是Trending YouTube Video Statistics,该数据集中包含10个csv文件， 包括美国，GB，DE，CA和FR地区等十个地区的数据，每天最多列出200个热门视频。首先合并这十个数据集，并读取合并后的内容。"
   ]
  },
  {
   "cell_type": "code",
   "execution_count": 1,
   "metadata": {},
   "outputs": [],
   "source": [
    "import pandas as pd\n",
    "import os\n",
    "Folder_Path = r'D:\\python\\youtube-new'          #要拼接的文件夹及其完整路径，注意不要包含中文\n",
    "SaveFile_Path =  r'D:\\python'       #拼接后要保存的文件路径\n",
    "SaveFile_Name = r'youtube.csv'              #合并后要保存的文件名\n",
    "os.chdir(Folder_Path)\n",
    "file_list = os.listdir()\n",
    "df1 = pd.read_csv(Folder_Path +'\\\\'+ file_list[0])   \n",
    "df2 = pd.read_csv(Folder_Path +'\\\\'+ file_list[1]) \n",
    "df3 = pd.read_csv(Folder_Path +'\\\\'+ file_list[2])\n",
    "df4 = pd.read_csv(Folder_Path +'\\\\'+ file_list[3])\n",
    "df5 = pd.read_csv(Folder_Path +'\\\\'+ file_list[4])\n",
    "df6 = pd.read_csv(Folder_Path +'\\\\'+ file_list[5],engine = 'python')\n",
    "df7 = pd.read_csv(Folder_Path +'\\\\'+ file_list[6],engine = 'python')\n",
    "df8 = pd.read_csv(Folder_Path +'\\\\'+ file_list[7],engine = 'python')\n",
    "df9 = pd.read_csv(Folder_Path +'\\\\'+ file_list[8],engine = 'python')\n",
    "df10 = pd.read_csv(Folder_Path +'\\\\'+ file_list[9])\n",
    "df = pd.concat([df1,df2,df3,df4,df5,df6,df7,df8,df9,df10],ignore_index = True,verify_integrity = True)\n",
    "df.to_csv(SaveFile_Path+'\\\\'+ SaveFile_Name,encoding=\"utf_8_sig\")"
   ]
  },
  {
   "cell_type": "code",
   "execution_count": 2,
   "metadata": {},
   "outputs": [
    {
     "name": "stdout",
     "output_type": "stream",
     "text": [
      "           video_id trending_date  \\\n",
      "0       n1WpP7iowLc      17.14.11   \n",
      "1       0dBIkQ4Mz1M      17.14.11   \n",
      "2       5qpjK5DgCt4      17.14.11   \n",
      "3       d380meD0W0M      17.14.11   \n",
      "4       2Vv-BfVoq4g      17.14.11   \n",
      "...             ...           ...   \n",
      "375937  BZt0qjTWNhw      18.14.06   \n",
      "375938  1h7KV2sjUWY      18.14.06   \n",
      "375939  D6Oy4LfoqsU      18.14.06   \n",
      "375940  oV0zkMe1K8s      18.14.06   \n",
      "375941  ooyjaVdt-jA      18.14.06   \n",
      "\n",
      "                                                    title  \\\n",
      "0              Eminem - Walk On Water (Audio) ft. Beyoncé   \n",
      "1                           PLUSH - Bad Unboxing Fan Mail   \n",
      "2       Racist Superman | Rudy Mancuso, King Bach & Le...   \n",
      "3                                I Dare You: GOING BALD!?   \n",
      "4             Ed Sheeran - Perfect (Official Music Video)   \n",
      "...                                                   ...   \n",
      "375937                       The Cat Who Caught the Laser   \n",
      "375938                         True Facts : Ant Mutualism   \n",
      "375939  I GAVE SAFIYA NYGAARD A PERFECT HAIR MAKEOVER ...   \n",
      "375940                How Black Panther Should Have Ended   \n",
      "375941  Official Call of Duty®: Black Ops 4 — Multipla...   \n",
      "\n",
      "                   channel_title  category_id              publish_time  \\\n",
      "0                     EminemVEVO           10  2017-11-10T17:00:03.000Z   \n",
      "1                      iDubbbzTV           23  2017-11-13T17:00:00.000Z   \n",
      "2                   Rudy Mancuso           23  2017-11-12T19:05:24.000Z   \n",
      "3                       nigahiga           24  2017-11-12T18:01:41.000Z   \n",
      "4                     Ed Sheeran           10  2017-11-09T11:04:14.000Z   \n",
      "...                          ...          ...                       ...   \n",
      "375937             AaronsAnimals           15  2018-05-18T13:00:04.000Z   \n",
      "375938                  zefrank1           22  2018-05-18T01:00:06.000Z   \n",
      "375939                Brad Mondo           24  2018-05-18T17:34:22.000Z   \n",
      "375940  How It Should Have Ended            1  2018-05-17T17:00:04.000Z   \n",
      "375941              Call of Duty           20  2018-05-17T17:09:38.000Z   \n",
      "\n",
      "                                                     tags     views    likes  \\\n",
      "0       Eminem|\"Walk\"|\"On\"|\"Water\"|\"Aftermath/Shady/In...  17158579   787425   \n",
      "1       plush|\"bad unboxing\"|\"unboxing\"|\"fan mail\"|\"id...   1014651   127794   \n",
      "2       racist superman|\"rudy\"|\"mancuso\"|\"king\"|\"bach\"...   3191434   146035   \n",
      "3       ryan|\"higa\"|\"higatv\"|\"nigahiga\"|\"i dare you\"|\"...   2095828   132239   \n",
      "4       edsheeran|\"ed sheeran\"|\"acoustic\"|\"live\"|\"cove...  33523622  1634130   \n",
      "...                                                   ...       ...      ...   \n",
      "375937  aarons animals|\"aarons\"|\"animals\"|\"cat\"|\"cats\"...   1685609    38160   \n",
      "375938                                             [none]   1064798    60008   \n",
      "375939  I gave safiya nygaard a perfect hair makeover ...   1066451    48068   \n",
      "375940  Black Panther|\"HISHE\"|\"Marvel\"|\"Infinity War\"|...   5660813   192957   \n",
      "375941      call of duty|\"cod\"|\"activision\"|\"Black Ops 4\"  10306119   357079   \n",
      "\n",
      "        dislikes  comment_count  \\\n",
      "0          43420         125882   \n",
      "1           1688          13030   \n",
      "2           5339           8181   \n",
      "3           1989          17518   \n",
      "4          21082          85067   \n",
      "...          ...            ...   \n",
      "375937      1385           2657   \n",
      "375938       382           3936   \n",
      "375939      1032           3992   \n",
      "375940      2846          13088   \n",
      "375941    212976         144795   \n",
      "\n",
      "                                        thumbnail_link  comments_disabled  \\\n",
      "0       https://i.ytimg.com/vi/n1WpP7iowLc/default.jpg              False   \n",
      "1       https://i.ytimg.com/vi/0dBIkQ4Mz1M/default.jpg              False   \n",
      "2       https://i.ytimg.com/vi/5qpjK5DgCt4/default.jpg              False   \n",
      "3       https://i.ytimg.com/vi/d380meD0W0M/default.jpg              False   \n",
      "4       https://i.ytimg.com/vi/2Vv-BfVoq4g/default.jpg              False   \n",
      "...                                                ...                ...   \n",
      "375937  https://i.ytimg.com/vi/BZt0qjTWNhw/default.jpg              False   \n",
      "375938  https://i.ytimg.com/vi/1h7KV2sjUWY/default.jpg              False   \n",
      "375939  https://i.ytimg.com/vi/D6Oy4LfoqsU/default.jpg              False   \n",
      "375940  https://i.ytimg.com/vi/oV0zkMe1K8s/default.jpg              False   \n",
      "375941  https://i.ytimg.com/vi/ooyjaVdt-jA/default.jpg              False   \n",
      "\n",
      "        ratings_disabled  video_error_or_removed  \\\n",
      "0                  False                   False   \n",
      "1                  False                   False   \n",
      "2                  False                   False   \n",
      "3                  False                   False   \n",
      "4                  False                   False   \n",
      "...                  ...                     ...   \n",
      "375937             False                   False   \n",
      "375938             False                   False   \n",
      "375939             False                   False   \n",
      "375940             False                   False   \n",
      "375941             False                   False   \n",
      "\n",
      "                                              description  \n",
      "0       Eminem's new track Walk on Water ft. Beyoncé i...  \n",
      "1       STill got a lot of packages. Probably will las...  \n",
      "2       WATCH MY PREVIOUS VIDEO ▶ \\n\\nSUBSCRIBE ► http...  \n",
      "3       I know it's been a while since we did this sho...  \n",
      "4       🎧: https://ad.gt/yt-perfect\\n💰: https://atlant...  \n",
      "...                                                   ...  \n",
      "375937     The Cat Who Caught the Laser - Aaron's Animals  \n",
      "375938                                                NaN  \n",
      "375939  I had so much fun transforming Safiyas hair in...  \n",
      "375940  How Black Panther Should Have EndedWatch More ...  \n",
      "375941  Call of Duty: Black Ops 4 Multiplayer raises t...  \n",
      "\n",
      "[375942 rows x 16 columns]\n"
     ]
    }
   ],
   "source": [
    "print(df)"
   ]
  },
  {
   "cell_type": "markdown",
   "metadata": {},
   "source": [
    "关于属性video_id，可以检索频数，获得频数最多的前10个视频id。"
   ]
  },
  {
   "cell_type": "code",
   "execution_count": 3,
   "metadata": {},
   "outputs": [
    {
     "name": "stdout",
     "output_type": "stream",
     "text": [
      "[('#NAME?', 2312), ('VYOjWnS4cMY', 92), ('UUkn-enk2RU', 89), ('tCXGJQYZ9JA', 83), ('iWZmdoY1aTE', 82), ('YBpdL9hSac4', 80), ('ffxKSjUwKdU', 80), ('i5qOzqD9Rms', 78), ('NooW_RbfdWI', 77), ('wbSwFU6tY1c', 76)]\n"
     ]
    }
   ],
   "source": [
    "import matplotlib.pyplot as plt\n",
    "import csv\n",
    "from collections import Counter\n",
    "filename = \"D:/python/youtube.csv\"\n",
    "with open(filename, 'r',encoding='UTF-8') as file:\n",
    "    next(file)\n",
    "    reader = csv.reader(file)\n",
    "    vid = [row[1] for row in reader]\n",
    "def counter1(arr):\n",
    "    return Counter(arr).most_common(10)\n",
    "print(counter1(vid))"
   ]
  },
  {
   "cell_type": "markdown",
   "metadata": {},
   "source": [
    "对于属性trending_date，由数据集可知，每天每个地区获取不超过200个视频，因此trending_date相同的数据在2000组左右，对其不再进行分析。\n",
    "视频标题title、publish_time、tags、thumbnail_link以及description这五个属性的重复率太低不再进行分析。\n",
    "其余属性如下，都只选取频数最高的前10：\n",
    "1、channel_title："
   ]
  },
  {
   "cell_type": "code",
   "execution_count": 4,
   "metadata": {},
   "outputs": [
    {
     "name": "stdout",
     "output_type": "stream",
     "text": [
      "[('The Late Show with Stephen Colbert', 984), ('WWE', 804), ('Late Night with Seth Meyers', 773), ('VikatanTV', 763), ('TheEllenShow', 743), ('Jimmy Kimmel Live', 707), ('The Tonight Show Starring Jimmy Fallon', 705), ('PewDiePie', 652), ('RadaanMedia', 651), ('The Late Late Show with James Corden', 583)]\n"
     ]
    }
   ],
   "source": [
    "import matplotlib.pyplot as plt\n",
    "import csv\n",
    "from collections import Counter\n",
    "filename = \"D:/python/youtube.csv\"\n",
    "with open(filename, 'r',encoding='UTF-8') as file:\n",
    "    next(file)\n",
    "    reader = csv.reader(file)\n",
    "    ctitle = [row[4] for row in reader]\n",
    "def counter1(arr):\n",
    "    return Counter(arr).most_common(10)\n",
    "print(counter1(ctitle))"
   ]
  },
  {
   "cell_type": "markdown",
   "metadata": {},
   "source": [
    "2、category_id:"
   ]
  },
  {
   "cell_type": "code",
   "execution_count": 5,
   "metadata": {},
   "outputs": [
    {
     "name": "stdout",
     "output_type": "stream",
     "text": [
      "[('24', 109006), ('22', 54052), ('10', 42514), ('25', 37288), ('23', 26970), ('17', 23684), ('1', 20932), ('26', 18856), ('20', 11498), ('28', 8171)]\n"
     ]
    }
   ],
   "source": [
    "import matplotlib.pyplot as plt\n",
    "import csv\n",
    "from collections import Counter\n",
    "filename = \"D:/python/youtube.csv\"\n",
    "with open(filename, 'r',encoding='UTF-8') as file:\n",
    "    next(file)\n",
    "    reader = csv.reader(file)\n",
    "    cid = [row[5] for row in reader]\n",
    "def counter1(arr):\n",
    "    return Counter(arr).most_common(10)\n",
    "print(counter1(cid))"
   ]
  },
  {
   "cell_type": "markdown",
   "metadata": {},
   "source": [
    "3、comments_disabled:"
   ]
  },
  {
   "cell_type": "code",
   "execution_count": 6,
   "metadata": {},
   "outputs": [
    {
     "name": "stdout",
     "output_type": "stream",
     "text": [
      "[('False', 367479), ('True', 8463)]\n"
     ]
    }
   ],
   "source": [
    "import matplotlib.pyplot as plt\n",
    "import csv\n",
    "from collections import Counter\n",
    "filename = \"D:/python/youtube.csv\"\n",
    "with open(filename, 'r',encoding='UTF-8') as file:\n",
    "    next(file)\n",
    "    reader = csv.reader(file)\n",
    "    cdis = [row[13] for row in reader]\n",
    "def counter1(arr):\n",
    "    return Counter(arr).most_common(10)\n",
    "print(counter1(cdis))"
   ]
  },
  {
   "cell_type": "markdown",
   "metadata": {},
   "source": [
    "4、ratings_disabled:"
   ]
  },
  {
   "cell_type": "code",
   "execution_count": 7,
   "metadata": {},
   "outputs": [
    {
     "name": "stdout",
     "output_type": "stream",
     "text": [
      "[('False', 368634), ('True', 7308)]\n"
     ]
    }
   ],
   "source": [
    "import matplotlib.pyplot as plt\n",
    "import csv\n",
    "from collections import Counter\n",
    "filename = \"D:/python/youtube.csv\"\n",
    "with open(filename, 'r',encoding='UTF-8') as file:\n",
    "    next(file)\n",
    "    reader = csv.reader(file)\n",
    "    rdis = [row[14] for row in reader]\n",
    "def counter1(arr):\n",
    "    return Counter(arr).most_common(10)\n",
    "print(counter1(rdis))"
   ]
  },
  {
   "cell_type": "markdown",
   "metadata": {},
   "source": [
    " 5、video_error_or_removed:"
   ]
  },
  {
   "cell_type": "code",
   "execution_count": 8,
   "metadata": {},
   "outputs": [
    {
     "name": "stdout",
     "output_type": "stream",
     "text": [
      "[('False', 375689), ('True', 253)]\n"
     ]
    }
   ],
   "source": [
    "import matplotlib.pyplot as plt\n",
    "import csv\n",
    "from collections import Counter\n",
    "filename = \"D:/python/youtube.csv\"\n",
    "with open(filename, 'r',encoding='UTF-8') as file:\n",
    "    next(file)\n",
    "    reader = csv.reader(file)\n",
    "    remove = [row[15] for row in reader]\n",
    "def counter1(arr):\n",
    "    return Counter(arr).most_common(10)\n",
    "print(counter1(remove))"
   ]
  },
  {
   "cell_type": "markdown",
   "metadata": {},
   "source": [
    "分析数值属性\n",
    "1、views:"
   ]
  },
  {
   "cell_type": "code",
   "execution_count": 9,
   "metadata": {},
   "outputs": [
    {
     "name": "stdout",
     "output_type": "stream",
     "text": [
      "views的缺失值个数为: 0\n",
      "views的五数概括是： 117.0 46978.0 177370.5 647679.25 424538912.0\n"
     ]
    }
   ],
   "source": [
    "import numpy as np\n",
    "def fiveNumber(nums):\n",
    "    \"\"\"五数概括 Minimum（最小值）、Q1、Median（中位数、）、Q3、Maximum（最大值）\"\"\"\n",
    "    Minimum=min(nums)\n",
    "    Maximum=max(nums)\n",
    "    Q1=np.percentile(nums,25)\n",
    "    Median=np.median(nums)\n",
    "    Q3=np.percentile(nums,75)\n",
    "    print(Minimum,Q1,Median,Q3,Maximum)\n",
    "with open(filename, 'r',encoding='UTF-8') as file:\n",
    "    next(file)\n",
    "    reader = csv.reader(file)\n",
    "    view = [row[8] for row in reader]\n",
    "len1 = len(view)\n",
    "view_num = list(filter(None, view))\n",
    "len2 = len(view_num)\n",
    "view_num = list(map(float, view_num))\n",
    "sum = len1 - len2\n",
    "print(\"views的缺失值个数为:\",sum)\n",
    "print(\"views的五数概括是：\",end=' ')\n",
    "fiveNumber(view_num)"
   ]
  },
  {
   "cell_type": "markdown",
   "metadata": {},
   "source": [
    "2、likes:"
   ]
  },
  {
   "cell_type": "code",
   "execution_count": 10,
   "metadata": {},
   "outputs": [
    {
     "name": "stdout",
     "output_type": "stream",
     "text": [
      "likes的缺失值个数为: 0\n",
      "likes的五数概括是： 0.0 669.0 3446.0 17476.5 5613827.0\n"
     ]
    }
   ],
   "source": [
    "with open(filename, 'r',encoding='UTF-8') as file:\n",
    "    next(file)\n",
    "    reader = csv.reader(file)\n",
    "    like = [row[9] for row in reader]\n",
    "len1 = len(like)\n",
    "like_num = list(filter(None, like))\n",
    "len2 = len(like_num)\n",
    "like_num = list(map(float, like_num))\n",
    "sum = len1 - len2\n",
    "print(\"likes的缺失值个数为:\",sum)\n",
    "print(\"likes的五数概括是：\",end=' ')\n",
    "fiveNumber(like_num)"
   ]
  },
  {
   "cell_type": "markdown",
   "metadata": {},
   "source": [
    "3、dislike:"
   ]
  },
  {
   "cell_type": "code",
   "execution_count": 11,
   "metadata": {},
   "outputs": [
    {
     "name": "stdout",
     "output_type": "stream",
     "text": [
      "dislikes的缺失值个数为: 0\n",
      "dislikes的五数概括是： 0.0 41.0 179.0 749.0 1944971.0\n"
     ]
    }
   ],
   "source": [
    "with open(filename, 'r',encoding='UTF-8') as file:\n",
    "    next(file)\n",
    "    reader = csv.reader(file)\n",
    "    dislike = [row[10] for row in reader]\n",
    "len1 = len(dislike)\n",
    "dislike_num = list(filter(None, dislike))\n",
    "len2 = len(dislike_num)\n",
    "dislike_num = list(map(float, dislike_num))\n",
    "sum = len1 - len2\n",
    "print(\"dislikes的缺失值个数为:\",sum)\n",
    "print(\"dislikes的五数概括是：\",end=' ')\n",
    "fiveNumber(dislike_num)"
   ]
  },
  {
   "cell_type": "markdown",
   "metadata": {},
   "source": [
    "4、comment-count:"
   ]
  },
  {
   "cell_type": "code",
   "execution_count": 12,
   "metadata": {},
   "outputs": [
    {
     "name": "stdout",
     "output_type": "stream",
     "text": [
      "comment的缺失值个数为: 0\n",
      "comment的五数概括是： 0.0 109.0 511.0 2011.0 1626501.0\n"
     ]
    }
   ],
   "source": [
    "with open(filename, 'r',encoding='UTF-8') as file:\n",
    "    next(file)\n",
    "    reader = csv.reader(file)\n",
    "    comment = [row[11] for row in reader]\n",
    "len1 = len(comment)\n",
    "comment_num = list(filter(None, comment))\n",
    "len2 = len(comment_num)\n",
    "comment_num = list(map(float, comment_num))\n",
    "sum = len1 - len2\n",
    "print(\"comment的缺失值个数为:\",sum)\n",
    "print(\"comment的五数概括是：\",end=' ')\n",
    "fiveNumber(comment_num)"
   ]
  },
  {
   "cell_type": "markdown",
   "metadata": {},
   "source": [
    "数据可视化：在盒图中，由于最大值为离群点，且距离最大观测值较远，则将最大值限定为最大观测值，没有画出离群点。\n",
    "1、views:"
   ]
  },
  {
   "cell_type": "code",
   "execution_count": 13,
   "metadata": {},
   "outputs": [
    {
     "data": {
      "text/plain": [
       "{'whiskers': [<matplotlib.lines.Line2D at 0x1e32df86dc8>,\n",
       "  <matplotlib.lines.Line2D at 0x1e32df86f08>],\n",
       " 'caps': [<matplotlib.lines.Line2D at 0x1e32df86f88>,\n",
       "  <matplotlib.lines.Line2D at 0x1e32df94f48>],\n",
       " 'boxes': [<matplotlib.lines.Line2D at 0x1e32df86588>],\n",
       " 'medians': [<matplotlib.lines.Line2D at 0x1e32df94c48>],\n",
       " 'fliers': [],\n",
       " 'means': []}"
      ]
     },
     "execution_count": 13,
     "metadata": {},
     "output_type": "execute_result"
    },
    {
     "data": {
      "image/png": "[encoded data removed]",
      "text/plain": [
       "<Figure size 432x288 with 1 Axes>"
      ]
     },
     "metadata": {
      "needs_background": "light"
     },
     "output_type": "display_data"
    }
   ],
   "source": [
    "import matplotlib.pyplot as plt\n",
    "plt.boxplot(view_num,showfliers = False) "
   ]
  },
  {
   "cell_type": "code",
   "execution_count": 14,
   "metadata": {},
   "outputs": [
    {
     "data": {
      "image/png": "[encoded data removed]",
      "text/plain": [
       "<Figure size 432x288 with 1 Axes>"
      ]
     },
     "metadata": {
      "needs_background": "light"
     },
     "output_type": "display_data"
    }
   ],
   "source": [
    "import pylab as pl\n",
    "def draw_hist(lenths,string1):  \n",
    "    data = lenths \n",
    "    bins = np.linspace(min(data),max(data),20)\n",
    "    pl.hist(data,bins)\n",
    "    pl.xlabel(\"Number of %s\"%(string1))\n",
    "    pl.ylabel('Number of occurences')\n",
    "    pl.title(\"Frequency distribution of number of %s\"%(string1))\n",
    "    pl.show()\n",
    "draw_hist(view_num,string1 = 'views')"
   ]
  },
  {
   "cell_type": "markdown",
   "metadata": {},
   "source": [
    "2、likes:"
   ]
  },
  {
   "cell_type": "code",
   "execution_count": 15,
   "metadata": {},
   "outputs": [
    {
     "data": {
      "text/plain": [
       "{'whiskers': [<matplotlib.lines.Line2D at 0x1e32e0dc7c8>,\n",
       "  <matplotlib.lines.Line2D at 0x1e32e0dcf88>],\n",
       " 'caps': [<matplotlib.lines.Line2D at 0x1e32e0dcf08>,\n",
       "  <matplotlib.lines.Line2D at 0x1e32e0dff08>],\n",
       " 'boxes': [<matplotlib.lines.Line2D at 0x1e32e0d6e08>],\n",
       " 'medians': [<matplotlib.lines.Line2D at 0x1e32e0dfe88>],\n",
       " 'fliers': [],\n",
       " 'means': []}"
      ]
     },
     "execution_count": 15,
     "metadata": {},
     "output_type": "execute_result"
    },
    {
     "data": {
      "image/png": "[encoded data removed]",
      "text/plain": [
       "<Figure size 432x288 with 1 Axes>"
      ]
     },
     "metadata": {
      "needs_background": "light"
     },
     "output_type": "display_data"
    }
   ],
   "source": [
    "plt.boxplot(like_num,showfliers = False) "
   ]
  },
  {
   "cell_type": "code",
   "execution_count": 16,
   "metadata": {},
   "outputs": [
    {
     "data": {
      "image/png": "[encoded data removed]",
      "text/plain": [
       "<Figure size 432x288 with 1 Axes>"
      ]
     },
     "metadata": {
      "needs_background": "light"
     },
     "output_type": "display_data"
    }
   ],
   "source": [
    "draw_hist(like_num,string1 = 'likes')"
   ]
  },
  {
   "cell_type": "markdown",
   "metadata": {},
   "source": [
    "3、dislike:"
   ]
  },
  {
   "cell_type": "code",
   "execution_count": 17,
   "metadata": {},
   "outputs": [
    {
     "data": {
      "text/plain": [
       "{'whiskers': [<matplotlib.lines.Line2D at 0x1e32e1d78c8>,\n",
       "  <matplotlib.lines.Line2D at 0x1e32e1d7f48>],\n",
       " 'caps': [<matplotlib.lines.Line2D at 0x1e32e1d7fc8>,\n",
       "  <matplotlib.lines.Line2D at 0x1e32e1dbfc8>],\n",
       " 'boxes': [<matplotlib.lines.Line2D at 0x1e32e1d2e88>],\n",
       " 'medians': [<matplotlib.lines.Line2D at 0x1e32e1dbf88>],\n",
       " 'fliers': [],\n",
       " 'means': []}"
      ]
     },
     "execution_count": 17,
     "metadata": {},
     "output_type": "execute_result"
    },
    {
     "data": {
      "image/png": "[encoded data removed]",
      "text/plain": [
       "<Figure size 432x288 with 1 Axes>"
      ]
     },
     "metadata": {
      "needs_background": "light"
     },
     "output_type": "display_data"
    }
   ],
   "source": [
    "plt.boxplot(dislike_num,showfliers = False) "
   ]
  },
  {
   "cell_type": "code",
   "execution_count": 18,
   "metadata": {},
   "outputs": [
    {
     "data": {
      "image/png": "[encoded data removed]",
      "text/plain": [
       "<Figure size 432x288 with 1 Axes>"
      ]
     },
     "metadata": {
      "needs_background": "light"
     },
     "output_type": "display_data"
    }
   ],
   "source": [
    "draw_hist(dislike_num,string1 = 'dislikes')"
   ]
  },
  {
   "cell_type": "markdown",
   "metadata": {},
   "source": [
    "4、comment-count:"
   ]
  },
  {
   "cell_type": "code",
   "execution_count": 19,
   "metadata": {},
   "outputs": [
    {
     "data": {
      "text/plain": [
       "{'whiskers': [<matplotlib.lines.Line2D at 0x1e3310b3cc8>,\n",
       "  <matplotlib.lines.Line2D at 0x1e3310b3dc8>],\n",
       " 'caps': [<matplotlib.lines.Line2D at 0x1e3310b7c88>,\n",
       "  <matplotlib.lines.Line2D at 0x1e3310b7d88>],\n",
       " 'boxes': [<matplotlib.lines.Line2D at 0x1e3310b3348>],\n",
       " 'medians': [<matplotlib.lines.Line2D at 0x1e3310bcc08>],\n",
       " 'fliers': [],\n",
       " 'means': []}"
      ]
     },
     "execution_count": 19,
     "metadata": {},
     "output_type": "execute_result"
    },
    {
     "data": {
      "image/png": "[encoded data removed]",
      "text/plain": [
       "<Figure size 432x288 with 1 Axes>"
      ]
     },
     "metadata": {
      "needs_background": "light"
     },
     "output_type": "display_data"
    }
   ],
   "source": [
    "plt.boxplot(comment_num,showfliers = False) "
   ]
  },
  {
   "cell_type": "code",
   "execution_count": 20,
   "metadata": {},
   "outputs": [
    {
     "data": {
      "image/png": "[encoded data removed]",
      "text/plain": [
       "<Figure size 432x288 with 1 Axes>"
      ]
     },
     "metadata": {
      "needs_background": "light"
     },
     "output_type": "display_data"
    }
   ],
   "source": [
    "draw_hist(comment_num,string1 = 'comment-count')"
   ]
  },
  {
   "cell_type": "markdown",
   "metadata": {},
   "source": [
    "缺失值处理：该数据集中前15个属性中均无缺失值，只有最后一个属性description缺失了19478个数据，但是该属性是对视频的描述，无法利用数值填充的方式进行填补，且对该属性并未进行分析，所以不再进行填补。"
   ]
  }
 ],
 "metadata": {
  "kernelspec": {
   "display_name": "Python 3",
   "language": "python",
   "name": "python3"
  },
  "language_info": {
   "codemirror_mode": {
    "name": "ipython",
    "version": 3
   },
   "file_extension": ".py",
   "mimetype": "text/x-python",
   "name": "python",
   "nbconvert_exporter": "python",
   "pygments_lexer": "ipython3",
   "version": "3.7.4"
  }
 },
 "nbformat": 4,
 "nbformat_minor": 4
}
